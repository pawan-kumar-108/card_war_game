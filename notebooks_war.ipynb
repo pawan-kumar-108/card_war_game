{
  "metadata": {
    "language_info": {
      "codemirror_mode": {
        "name": "python",
        "version": 3
      },
      "file_extension": ".py",
      "mimetype": "text/x-python",
      "name": "python",
      "nbconvert_exporter": "python",
      "pygments_lexer": "ipython3",
      "version": "3.8"
    },
    "kernelspec": {
      "name": "python",
      "display_name": "Python (Pyodide)",
      "language": "python"
    }
  },
  "nbformat_minor": 4,
  "nbformat": 4,
  "cells": [
    {
      "cell_type": "code",
      "source": "suits = ( 'Heart', 'Diamond', 'Spade', 'Club')\nranks = ('Second', 'Third', 'Fourth', 'Fifth', 'Sixth', 'Seventh', 'Eighth', 'Ninth', 'Tenth', 'Jack', 'Queen', 'King', 'Ace')\nvalues= {'Second': 2, 'Third' : 3, 'Fourth': 4, 'Fifth':5, 'Sixth': 6, 'Seventh': 7, 'Eighth': 8, 'Ninth': 9, 'Tenth': 10, 'Jack': 11, 'Queen': 12, 'King': 13, 'Ace': 14}\n",
      "metadata": {
        "trusted": true
      },
      "execution_count": 1,
      "outputs": []
    },
    {
      "cell_type": "code",
      "source": "class Card:\n    def __init__ (self, suit, rank):\n        self.suit= suit\n        self.rank= rank\n        self.value = values[rank]\n        \n    def __str__ (self):\n        return self.rank + ' ' + self.suit\n    \n",
      "metadata": {
        "trusted": true
      },
      "execution_count": 2,
      "outputs": []
    },
    {
      "cell_type": "code",
      "source": "twelfth_queen = Card(\"Heart\", 'Queen')",
      "metadata": {
        "trusted": true
      },
      "execution_count": 3,
      "outputs": []
    },
    {
      "cell_type": "code",
      "source": "twelfth_queen.value\n",
      "metadata": {
        "trusted": true
      },
      "execution_count": 4,
      "outputs": [
        {
          "execution_count": 4,
          "output_type": "execute_result",
          "data": {
            "text/plain": "12"
          },
          "metadata": {}
        }
      ]
    },
    {
      "cell_type": "code",
      "source": "tenth_diamond = Card('Diamond', 'Tenth')",
      "metadata": {
        "trusted": true
      },
      "execution_count": 5,
      "outputs": []
    },
    {
      "cell_type": "code",
      "source": "tenth_diamond.value",
      "metadata": {
        "trusted": true
      },
      "execution_count": 6,
      "outputs": [
        {
          "execution_count": 6,
          "output_type": "execute_result",
          "data": {
            "text/plain": "10"
          },
          "metadata": {}
        }
      ]
    },
    {
      "cell_type": "code",
      "source": "tenth_diamond.suit",
      "metadata": {
        "trusted": true
      },
      "execution_count": 7,
      "outputs": [
        {
          "execution_count": 7,
          "output_type": "execute_result",
          "data": {
            "text/plain": "'Diamond'"
          },
          "metadata": {}
        }
      ]
    },
    {
      "cell_type": "code",
      "source": "second_spade= Card('Spade', 'Second')",
      "metadata": {
        "trusted": true
      },
      "execution_count": 8,
      "outputs": []
    },
    {
      "cell_type": "code",
      "source": "second_spade.value > tenth_diamond.value",
      "metadata": {
        "trusted": true
      },
      "execution_count": 9,
      "outputs": [
        {
          "execution_count": 9,
          "output_type": "execute_result",
          "data": {
            "text/plain": "False"
          },
          "metadata": {}
        }
      ]
    },
    {
      "cell_type": "code",
      "source": "second_spade == tenth_diamond",
      "metadata": {
        "trusted": true
      },
      "execution_count": 10,
      "outputs": [
        {
          "execution_count": 10,
          "output_type": "execute_result",
          "data": {
            "text/plain": "False"
          },
          "metadata": {}
        }
      ]
    },
    {
      "cell_type": "code",
      "source": "second_spade.value < tenth_diamond.value",
      "metadata": {
        "trusted": true
      },
      "execution_count": 11,
      "outputs": [
        {
          "execution_count": 11,
          "output_type": "execute_result",
          "data": {
            "text/plain": "True"
          },
          "metadata": {}
        }
      ]
    },
    {
      "cell_type": "code",
      "source": "second_spade.rank < tenth_diamond.rank",
      "metadata": {
        "trusted": true
      },
      "execution_count": 12,
      "outputs": [
        {
          "execution_count": 12,
          "output_type": "execute_result",
          "data": {
            "text/plain": "True"
          },
          "metadata": {}
        }
      ]
    },
    {
      "cell_type": "code",
      "source": "import random\n#With the help of Deck object, we can create a new deck of 52 cards ready to play.\n#Evverytime, we call Deck class, 52 cards are inserted into all_cards array.\nclass Deck: \n    def __init__ (self):\n        self.all_cards= []\n        for suit in suits:\n            for rank in ranks:\n                self.all_cards.append(Card(suit, rank))\n    \n    def shuffle(self):\n        random.shuffle(self.all_cards)\n        \n    def pop_one(self):\n        return self.all_cards.pop()            ",
      "metadata": {
        "trusted": true
      },
      "execution_count": 13,
      "outputs": []
    },
    {
      "cell_type": "code",
      "source": "new_deck = Deck()",
      "metadata": {
        "trusted": true
      },
      "execution_count": 14,
      "outputs": []
    },
    {
      "cell_type": "code",
      "source": "print(new_deck)",
      "metadata": {
        "trusted": true
      },
      "execution_count": 15,
      "outputs": [
        {
          "name": "stdout",
          "text": "<__main__.Deck object at 0x1e85440>\n",
          "output_type": "stream"
        }
      ]
    },
    {
      "cell_type": "code",
      "source": "new_deck.all_cards",
      "metadata": {
        "trusted": true
      },
      "execution_count": 16,
      "outputs": [
        {
          "execution_count": 16,
          "output_type": "execute_result",
          "data": {
            "text/plain": "[<__main__.Card at 0x24ce5b0>,\n <__main__.Card at 0x24dce90>,\n <__main__.Card at 0x24dcf38>,\n <__main__.Card at 0x24ce5d0>,\n <__main__.Card at 0x24ddfd0>,\n <__main__.Card at 0x24de068>,\n <__main__.Card at 0x1e77108>,\n <__main__.Card at 0x1e77198>,\n <__main__.Card at 0x1e771b8>,\n <__main__.Card at 0x2548838>,\n <__main__.Card at 0x24de088>,\n <__main__.Card at 0x24decd8>,\n <__main__.Card at 0x24ded50>,\n <__main__.Card at 0x24dedc0>,\n <__main__.Card at 0x1e914a8>,\n <__main__.Card at 0x1e91510>,\n <__main__.Card at 0x1e91530>,\n <__main__.Card at 0x1e771d8>,\n <__main__.Card at 0x1e77620>,\n <__main__.Card at 0x1e77670>,\n <__main__.Card at 0x1e776c0>,\n <__main__.Card at 0x1e77708>,\n <__main__.Card at 0x1e77748>,\n <__main__.Card at 0x1e77788>,\n <__main__.Card at 0x1e76048>,\n <__main__.Card at 0x1e76110>,\n <__main__.Card at 0x1e76150>,\n <__main__.Card at 0x1e76190>,\n <__main__.Card at 0x1e761d0>,\n <__main__.Card at 0x1e915a8>,\n <__main__.Card at 0x1e915e8>,\n <__main__.Card at 0x1e75ae0>,\n <__main__.Card at 0x1e75b20>,\n <__main__.Card at 0x1e75c08>,\n <__main__.Card at 0x1e75c48>,\n <__main__.Card at 0x1e75c88>,\n <__main__.Card at 0x1e76088>,\n <__main__.Card at 0x1e760c8>,\n <__main__.Card at 0x24cd7a0>,\n <__main__.Card at 0x24cd7e0>,\n <__main__.Card at 0x24cd820>,\n <__main__.Card at 0x24cd938>,\n <__main__.Card at 0x24cd978>,\n <__main__.Card at 0x1e75b60>,\n <__main__.Card at 0x1e75ba0>,\n <__main__.Card at 0x1e75be0>,\n <__main__.Card at 0x1e77318>,\n <__main__.Card at 0x1e77358>,\n <__main__.Card at 0x1e77398>,\n <__main__.Card at 0x1e773d8>,\n <__main__.Card at 0x1e77418>,\n <__main__.Card at 0x1e77458>]"
          },
          "metadata": {}
        }
      ]
    },
    {
      "cell_type": "code",
      "source": "for i in new_deck.all_cards:\n    print(i)",
      "metadata": {
        "trusted": true
      },
      "execution_count": 17,
      "outputs": [
        {
          "name": "stdout",
          "text": "Second Heart\nThird Heart\nFourth Heart\nFifth Heart\nSixth Heart\nSeventh Heart\nEighth Heart\nNinth Heart\nTenth Heart\nJack Heart\nQueen Heart\nKing Heart\nAce Heart\nSecond Diamond\nThird Diamond\nFourth Diamond\nFifth Diamond\nSixth Diamond\nSeventh Diamond\nEighth Diamond\nNinth Diamond\nTenth Diamond\nJack Diamond\nQueen Diamond\nKing Diamond\nAce Diamond\nSecond Spade\nThird Spade\nFourth Spade\nFifth Spade\nSixth Spade\nSeventh Spade\nEighth Spade\nNinth Spade\nTenth Spade\nJack Spade\nQueen Spade\nKing Spade\nAce Spade\nSecond Club\nThird Club\nFourth Club\nFifth Club\nSixth Club\nSeventh Club\nEighth Club\nNinth Club\nTenth Club\nJack Club\nQueen Club\nKing Club\nAce Club\n",
          "output_type": "stream"
        }
      ]
    },
    {
      "cell_type": "code",
      "source": "new_deck.shuffle()",
      "metadata": {
        "trusted": true
      },
      "execution_count": 18,
      "outputs": []
    },
    {
      "cell_type": "code",
      "source": "print(new_deck.all_cards[0])",
      "metadata": {
        "trusted": true
      },
      "execution_count": 19,
      "outputs": [
        {
          "name": "stdout",
          "text": "King Heart\n",
          "output_type": "stream"
        }
      ]
    },
    {
      "cell_type": "code",
      "source": "len(new_deck.all_cards)",
      "metadata": {
        "trusted": true
      },
      "execution_count": 20,
      "outputs": [
        {
          "execution_count": 20,
          "output_type": "execute_result",
          "data": {
            "text/plain": "52"
          },
          "metadata": {}
        }
      ]
    },
    {
      "cell_type": "code",
      "source": "first_of_deck = new_deck.all_cards[-1]",
      "metadata": {
        "trusted": true
      },
      "execution_count": 21,
      "outputs": []
    },
    {
      "cell_type": "code",
      "source": "print(first_of_deck)",
      "metadata": {
        "trusted": true
      },
      "execution_count": 22,
      "outputs": [
        {
          "name": "stdout",
          "text": "King Diamond\n",
          "output_type": "stream"
        }
      ]
    },
    {
      "cell_type": "code",
      "source": "class Player:\n    def __init__ (self, player_name):\n        self.player_name = player_name\n        self.all_cards= []\n        \n    def remove_one(self):\n        return self.all_cards.pop(0)\n    \n    def add_cards(self, new_cards):\n        if type(new_cards) == type([]):\n            # i.e the new_cards are in list form or we can say- multiple cards are there. It will be used in war situation\n            self.all_cards.extend(new_cards)\n        else:\n            # i.e. not in list form, in a single entity (card). This method is used for assigning 26-26 cards to each player!\n            self.all_cards.append(new_cards)\n    \n    def __str__ (self):\n        # for printing this class' object\n        return f\"{self.player_name} has {len(self.all_cards)}.\\nSukoon Millgya jaankar? :P\"   \n            ",
      "metadata": {
        "trusted": true
      },
      "execution_count": 23,
      "outputs": []
    },
    {
      "cell_type": "code",
      "source": "chad_guy = Player(\"Oggy\")",
      "metadata": {
        "trusted": true
      },
      "execution_count": 24,
      "outputs": []
    },
    {
      "cell_type": "code",
      "source": "print(chad_guy)",
      "metadata": {
        "trusted": true
      },
      "execution_count": 25,
      "outputs": [
        {
          "name": "stdout",
          "text": "Oggy has 0.\nSukoon Millgya jaankar? :P\n",
          "output_type": "stream"
        }
      ]
    },
    {
      "cell_type": "code",
      "source": "chad_guy.add_cards(new_deck.all_cards)",
      "metadata": {
        "trusted": true
      },
      "execution_count": 26,
      "outputs": []
    },
    {
      "cell_type": "code",
      "source": "print(chad_guy)",
      "metadata": {
        "trusted": true
      },
      "execution_count": 27,
      "outputs": [
        {
          "name": "stdout",
          "text": "Oggy has 52.\nSukoon Millgya jaankar? :P\n",
          "output_type": "stream"
        }
      ]
    },
    {
      "cell_type": "code",
      "source": "# chad_guy.remove_one() # if new_cards have some entities inside the list it can be run.",
      "metadata": {
        "trusted": true
      },
      "execution_count": 28,
      "outputs": []
    },
    {
      "cell_type": "code",
      "source": "print(chad_guy)",
      "metadata": {
        "trusted": true
      },
      "execution_count": 29,
      "outputs": [
        {
          "name": "stdout",
          "text": "Oggy has 52.\nSukoon Millgya jaankar? :P\n",
          "output_type": "stream"
        }
      ]
    },
    {
      "cell_type": "code",
      "source": "player_one = Player(\"Pawan\") \nplayer_two = Player(\"Niket\")",
      "metadata": {
        "trusted": true
      },
      "execution_count": 30,
      "outputs": []
    },
    {
      "cell_type": "code",
      "source": "new_deck = Deck()",
      "metadata": {
        "trusted": true
      },
      "execution_count": 31,
      "outputs": []
    },
    {
      "cell_type": "code",
      "source": "new_deck.shuffle()",
      "metadata": {
        "trusted": true
      },
      "execution_count": 32,
      "outputs": []
    },
    {
      "cell_type": "code",
      "source": "new_deck.all_cards[0]\n",
      "metadata": {
        "trusted": true
      },
      "execution_count": 33,
      "outputs": [
        {
          "execution_count": 33,
          "output_type": "execute_result",
          "data": {
            "text/plain": "<__main__.Card at 0x214d220>"
          },
          "metadata": {}
        }
      ]
    },
    {
      "cell_type": "code",
      "source": "print(new_deck.all_cards[0])\nprint(new_deck.all_cards[-1])",
      "metadata": {
        "trusted": true
      },
      "execution_count": 34,
      "outputs": [
        {
          "name": "stdout",
          "text": "Eighth Diamond\nJack Spade\n",
          "output_type": "stream"
        }
      ]
    },
    {
      "cell_type": "code",
      "source": "new_deck",
      "metadata": {
        "trusted": true
      },
      "execution_count": 35,
      "outputs": [
        {
          "execution_count": 35,
          "output_type": "execute_result",
          "data": {
            "text/plain": "<__main__.Deck at 0x24fad70>"
          },
          "metadata": {}
        }
      ]
    },
    {
      "cell_type": "code",
      "source": "\nfor i in range(26):\n    player_one.add_cards(new_deck.pop_one())\n    player_two.add_cards(new_deck.pop_one())\n",
      "metadata": {
        "trusted": true
      },
      "execution_count": 36,
      "outputs": []
    },
    {
      "cell_type": "code",
      "source": "len(new_deck.all_cards)",
      "metadata": {
        "trusted": true
      },
      "execution_count": 37,
      "outputs": [
        {
          "execution_count": 37,
          "output_type": "execute_result",
          "data": {
            "text/plain": "0"
          },
          "metadata": {}
        }
      ]
    },
    {
      "cell_type": "code",
      "source": "len(player_one.all_cards)",
      "metadata": {
        "trusted": true
      },
      "execution_count": 38,
      "outputs": [
        {
          "execution_count": 38,
          "output_type": "execute_result",
          "data": {
            "text/plain": "26"
          },
          "metadata": {}
        }
      ]
    },
    {
      "cell_type": "code",
      "source": "len(player_two.all_cards)",
      "metadata": {
        "trusted": true
      },
      "execution_count": 39,
      "outputs": [
        {
          "execution_count": 39,
          "output_type": "execute_result",
          "data": {
            "text/plain": "26"
          },
          "metadata": {}
        }
      ]
    },
    {
      "cell_type": "code",
      "source": "game_on = True",
      "metadata": {
        "trusted": true
      },
      "execution_count": 40,
      "outputs": []
    },
    {
      "cell_type": "code",
      "source": "round_num = 0\nwhile game_on:\n    \n    round_num += 1\n    print(f\"It's {round_num}th round\") \n    \n    if len(player_one.all_cards) == 0:\n        print(\"Player Two Wins!! Bcz Player Two have no card left :I\")\n        game_on = False\n        break\n    if len(player_two.all_cards) == 0:\n        print(\"Player One Wins!! Bcz Player Two have no card left :I\")      \n        game_on = False\n        break\n        \n    player_one_table = []\n    player_one_table.append(player_one.remove_one())\n    player_two_table = []\n    player_two_table.append(player_two.remove_one())\n\n    \n    #At war condition:\n    at_war = True\n    while at_war:\n        \n        if player_one_table[-1].value < player_two_table[-1].value:\n            \n            # both cards at the table will be in the hand of higher party.\n            player_two.add_cards(player_one_table) #other's card\n            player_two.add_cards(player_two_table)  #own's card\n            at_war = False\n            \n        elif player_one_table[-1].value > player_two_table[-1].value:\n            \n            player_one.add_cards(player_two_table) #other's card\n            player_one.add_cards(player_one_table) #own card\n            at_war = False\n            \n        else:\n            print(\"War Situation!!\")\n            #Checking if both the players have enough \n            if len(player_one.all_cards) < 5:\n                print(\"Player 1 does not have enough cards to proceed :I \\nPlayer 2 wins\")\n                game_on = False\n                break\n            elif len(player_two.all_cards) < 5:\n                print(\"Player 2 does not have enough cards to proceed :I \\nPlayer 1 wins\")\n                game_on = False\n                break\n            else:\n                for i in range(5):\n                    # five times the cards will be drawn (removed) from in-hand cards and will be \n                    # transferred(added) to the cards on table.for both 2 players in war situation!!\n                    player_one_table.append(player_one.remove_one())\n                    player_two_table.append(player_two.remove_one())\n                \n                ",
      "metadata": {
        "trusted": true
      },
      "execution_count": 41,
      "outputs": [
        {
          "name": "stdout",
          "text": "It's 1th round\nIt's 2th round\nIt's 3th round\nIt's 4th round\nIt's 5th round\nIt's 6th round\nIt's 7th round\nIt's 8th round\nIt's 9th round\nIt's 10th round\nIt's 11th round\nWar Situation!!\nIt's 12th round\nWar Situation!!\nIt's 13th round\nIt's 14th round\nIt's 15th round\nIt's 16th round\nIt's 17th round\nIt's 18th round\nIt's 19th round\nIt's 20th round\nIt's 21th round\nWar Situation!!\nIt's 22th round\nIt's 23th round\nIt's 24th round\nIt's 25th round\nIt's 26th round\nIt's 27th round\nIt's 28th round\nIt's 29th round\nIt's 30th round\nIt's 31th round\nIt's 32th round\nIt's 33th round\nIt's 34th round\nIt's 35th round\nIt's 36th round\nIt's 37th round\nIt's 38th round\nIt's 39th round\nIt's 40th round\nIt's 41th round\nIt's 42th round\nIt's 43th round\nIt's 44th round\nWar Situation!!\nIt's 45th round\nIt's 46th round\nIt's 47th round\nIt's 48th round\nIt's 49th round\nWar Situation!!\nIt's 50th round\nIt's 51th round\nIt's 52th round\nIt's 53th round\nIt's 54th round\nIt's 55th round\nIt's 56th round\nIt's 57th round\nIt's 58th round\nIt's 59th round\nIt's 60th round\nIt's 61th round\nIt's 62th round\nIt's 63th round\nWar Situation!!\nIt's 64th round\nIt's 65th round\nIt's 66th round\nIt's 67th round\nIt's 68th round\nIt's 69th round\nIt's 70th round\nIt's 71th round\nIt's 72th round\nIt's 73th round\nPlayer Two Wins!! Bcz Player Two have no card left :I\n",
          "output_type": "stream"
        }
      ]
    },
    {
      "cell_type": "code",
      "source": "len(player_one_table)",
      "metadata": {
        "trusted": true
      },
      "execution_count": 42,
      "outputs": [
        {
          "execution_count": 42,
          "output_type": "execute_result",
          "data": {
            "text/plain": "1"
          },
          "metadata": {}
        }
      ]
    },
    {
      "cell_type": "code",
      "source": "",
      "metadata": {},
      "execution_count": null,
      "outputs": []
    }
  ]
}