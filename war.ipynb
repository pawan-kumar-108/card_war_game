{
  "metadata": {
    "language_info": {
      "codemirror_mode": {
        "name": "python",
        "version": 3
      },
      "file_extension": ".py",
      "mimetype": "text/x-python",
      "name": "python",
      "nbconvert_exporter": "python",
      "pygments_lexer": "ipython3",
      "version": "3.8"
    },
    "kernelspec": {
      "name": "python",
      "display_name": "Python (Pyodide)",
      "language": "python"
    }
  },
  "nbformat_minor": 4,
  "nbformat": 4,
  "cells": [
    {
      "cell_type": "code",
      "source": "suits = ( 'Heart', 'Diamond', 'Spade', 'Club')\nranks = ('Second', 'Third', 'Fourth', 'Fifth', 'Sixth', 'Seventh', 'Eighth', 'Ninth', 'Tenth', 'Jack', 'Queen', 'King', 'Ace')\nvalues= {'Second': 2, 'Third' : 3, 'Fourth': 4, 'Fifth':5, 'Sixth': 6, 'Seventh': 7, 'Eighth': 8, 'Ninth': 9, 'Tenth': 10, 'Jack': 11, 'Queen': 12, 'King': 13, 'Ace': 14}\n",
      "metadata": {
        "trusted": true
      },
      "execution_count": 1,
      "outputs": []
    },
    {
      "cell_type": "code",
      "source": "class Card:\n    def __init__ (self, suit, rank):\n        self.suit= suit\n        self.rank= rank\n        self.value = values[rank]\n        \n    def __str__ (self):\n        return self.rank + ' ' + self.suit\n    \n",
      "metadata": {
        "trusted": true
      },
      "execution_count": 2,
      "outputs": []
    },
    {
      "cell_type": "code",
      "source": "twelfth_queen = Card(\"Heart\", 'Queen')",
      "metadata": {
        "trusted": true
      },
      "execution_count": 3,
      "outputs": []
    },
    {
      "cell_type": "code",
      "source": "twelfth_queen.value\n",
      "metadata": {
        "trusted": true
      },
      "execution_count": 4,
      "outputs": [
        {
          "execution_count": 4,
          "output_type": "execute_result",
          "data": {
            "text/plain": "12"
          },
          "metadata": {}
        }
      ]
    },
    {
      "cell_type": "code",
      "source": "tenth_diamond = Card('Diamond', 'Tenth')",
      "metadata": {
        "trusted": true
      },
      "execution_count": 5,
      "outputs": []
    },
    {
      "cell_type": "code",
      "source": "tenth_diamond.value",
      "metadata": {
        "trusted": true
      },
      "execution_count": 6,
      "outputs": [
        {
          "execution_count": 6,
          "output_type": "execute_result",
          "data": {
            "text/plain": "10"
          },
          "metadata": {}
        }
      ]
    },
    {
      "cell_type": "code",
      "source": "tenth_diamond.suit",
      "metadata": {
        "trusted": true
      },
      "execution_count": 7,
      "outputs": [
        {
          "execution_count": 7,
          "output_type": "execute_result",
          "data": {
            "text/plain": "'Diamond'"
          },
          "metadata": {}
        }
      ]
    },
    {
      "cell_type": "code",
      "source": "second_spade= Card('Spade', 'Second')",
      "metadata": {
        "trusted": true
      },
      "execution_count": 8,
      "outputs": []
    },
    {
      "cell_type": "code",
      "source": "second_spade.value > tenth_diamond.value",
      "metadata": {
        "trusted": true
      },
      "execution_count": 9,
      "outputs": [
        {
          "execution_count": 9,
          "output_type": "execute_result",
          "data": {
            "text/plain": "False"
          },
          "metadata": {}
        }
      ]
    },
    {
      "cell_type": "code",
      "source": "second_spade == tenth_diamond",
      "metadata": {
        "trusted": true
      },
      "execution_count": 10,
      "outputs": [
        {
          "execution_count": 10,
          "output_type": "execute_result",
          "data": {
            "text/plain": "False"
          },
          "metadata": {}
        }
      ]
    },
    {
      "cell_type": "code",
      "source": "second_spade.value < tenth_diamond.value",
      "metadata": {
        "trusted": true
      },
      "execution_count": 11,
      "outputs": [
        {
          "execution_count": 11,
          "output_type": "execute_result",
          "data": {
            "text/plain": "True"
          },
          "metadata": {}
        }
      ]
    },
    {
      "cell_type": "code",
      "source": "second_spade.rank < tenth_diamond.rank",
      "metadata": {
        "trusted": true
      },
      "execution_count": 12,
      "outputs": [
        {
          "execution_count": 12,
          "output_type": "execute_result",
          "data": {
            "text/plain": "True"
          },
          "metadata": {}
        }
      ]
    },
    {
      "cell_type": "code",
      "source": "import random\n#With the help of Deck object, we can create a new deck of 52 cards ready to play.\n#Evverytime, we call Deck class, 52 cards are inserted into all_cards array.\nclass Deck: \n    def __init__ (self):\n        self.all_cards= []\n        for suit in suits:\n            for rank in ranks:\n                self.all_cards.append(Card(suit, rank))\n    \n    def shuffle(self):\n        random.shuffle(self.all_cards)\n        \n    def pop_one(self):\n        self.all_cards.pop()            ",
      "metadata": {
        "trusted": true
      },
      "execution_count": 13,
      "outputs": []
    },
    {
      "cell_type": "code",
      "source": "new_deck = Deck()",
      "metadata": {
        "trusted": true
      },
      "execution_count": 14,
      "outputs": []
    },
    {
      "cell_type": "code",
      "source": "print(new_deck)",
      "metadata": {
        "trusted": true
      },
      "execution_count": 15,
      "outputs": [
        {
          "name": "stdout",
          "text": "<__main__.Deck object at 0x1570160>\n",
          "output_type": "stream"
        }
      ]
    },
    {
      "cell_type": "code",
      "source": "new_deck.all_cards",
      "metadata": {
        "trusted": true
      },
      "execution_count": 16,
      "outputs": [
        {
          "execution_count": 16,
          "output_type": "execute_result",
          "data": {
            "text/plain": "[<__main__.Card at 0x1e6a558>,\n <__main__.Card at 0x20868b0>,\n <__main__.Card at 0x1e8d018>,\n <__main__.Card at 0x1e8d0b8>,\n <__main__.Card at 0x21e04c8>,\n <__main__.Card at 0x21e0510>,\n <__main__.Card at 0x21e0530>,\n <__main__.Card at 0x21e05c0>,\n <__main__.Card at 0x1d99ad0>,\n <__main__.Card at 0x21e04e8>,\n <__main__.Card at 0x21e0a18>,\n <__main__.Card at 0x21e0a90>,\n <__main__.Card at 0x21e0b08>,\n <__main__.Card at 0x21e0b78>,\n <__main__.Card at 0x21e0be0>,\n <__main__.Card at 0x21654f0>,\n <__main__.Card at 0x2165550>,\n <__main__.Card at 0x21655d8>,\n <__main__.Card at 0x2165630>,\n <__main__.Card at 0x2165680>,\n <__main__.Card at 0x21656d0>,\n <__main__.Card at 0x2165718>,\n <__main__.Card at 0x2165758>,\n <__main__.Card at 0x2165798>,\n <__main__.Card at 0x21657d8>,\n <__main__.Card at 0x21e0970>,\n <__main__.Card at 0x2165570>,\n <__main__.Card at 0x21655b0>,\n <__main__.Card at 0x1e8c478>,\n <__main__.Card at 0x1e8c4b8>,\n <__main__.Card at 0x1e8c4f8>,\n <__main__.Card at 0x1e8c538>,\n <__main__.Card at 0x1e8c578>,\n <__main__.Card at 0x1e8c660>,\n <__main__.Card at 0x1e8c6a0>,\n <__main__.Card at 0x1e8c6e0>,\n <__main__.Card at 0x1e8c720>,\n <__main__.Card at 0x1e8c760>,\n <__main__.Card at 0x1e8c7a0>,\n <__main__.Card at 0x1e8c7e0>,\n <__main__.Card at 0x1e8c820>,\n <__main__.Card at 0x1e8c938>,\n <__main__.Card at 0x1e8c978>,\n <__main__.Card at 0x2165818>,\n <__main__.Card at 0x2165858>,\n <__main__.Card at 0x1e8c5b8>,\n <__main__.Card at 0x1e8c5f8>,\n <__main__.Card at 0x1e8c638>,\n <__main__.Card at 0x21e14b8>,\n <__main__.Card at 0x21e14f8>,\n <__main__.Card at 0x21e1538>,\n <__main__.Card at 0x21e1578>]"
          },
          "metadata": {}
        }
      ]
    },
    {
      "cell_type": "code",
      "source": "for i in new_deck.all_cards:\n    print(i)",
      "metadata": {
        "trusted": true
      },
      "execution_count": 17,
      "outputs": [
        {
          "name": "stdout",
          "text": "Second Heart\nThird Heart\nFourth Heart\nFifth Heart\nSixth Heart\nSeventh Heart\nEighth Heart\nNinth Heart\nTenth Heart\nJack Heart\nQueen Heart\nKing Heart\nAce Heart\nSecond Diamond\nThird Diamond\nFourth Diamond\nFifth Diamond\nSixth Diamond\nSeventh Diamond\nEighth Diamond\nNinth Diamond\nTenth Diamond\nJack Diamond\nQueen Diamond\nKing Diamond\nAce Diamond\nSecond Spade\nThird Spade\nFourth Spade\nFifth Spade\nSixth Spade\nSeventh Spade\nEighth Spade\nNinth Spade\nTenth Spade\nJack Spade\nQueen Spade\nKing Spade\nAce Spade\nSecond Club\nThird Club\nFourth Club\nFifth Club\nSixth Club\nSeventh Club\nEighth Club\nNinth Club\nTenth Club\nJack Club\nQueen Club\nKing Club\nAce Club\n",
          "output_type": "stream"
        }
      ]
    },
    {
      "cell_type": "code",
      "source": "new_deck.shuffle()",
      "metadata": {
        "trusted": true
      },
      "execution_count": 18,
      "outputs": []
    },
    {
      "cell_type": "code",
      "source": "print(new_deck.all_cards[0])",
      "metadata": {
        "trusted": true
      },
      "execution_count": 19,
      "outputs": [
        {
          "name": "stdout",
          "text": "Seventh Heart\n",
          "output_type": "stream"
        }
      ]
    },
    {
      "cell_type": "code",
      "source": "len(new_deck.all_cards)",
      "metadata": {
        "trusted": true
      },
      "execution_count": 20,
      "outputs": [
        {
          "execution_count": 20,
          "output_type": "execute_result",
          "data": {
            "text/plain": "52"
          },
          "metadata": {}
        }
      ]
    },
    {
      "cell_type": "code",
      "source": "first_of_deck = new_deck.all_cards[-1]",
      "metadata": {
        "trusted": true
      },
      "execution_count": 21,
      "outputs": []
    },
    {
      "cell_type": "code",
      "source": "print(first_of_deck)",
      "metadata": {
        "trusted": true
      },
      "execution_count": 22,
      "outputs": [
        {
          "name": "stdout",
          "text": "Seventh Club\n",
          "output_type": "stream"
        }
      ]
    },
    {
      "cell_type": "code",
      "source": "class Player:\n    def __init__ (self, player_name):\n        self.player_name = player_name\n        self.all_cards= []\n        \n    def remove_one(self):\n        return self.all_cards.pop(0)\n    \n    def add_cards(self, new_cards):\n        if type(new_cards) == type([]):\n            # i.e the new_cards are in list form or we can say- multiple cards are there. It will be used in war situation\n            self.all_cards.extend(new_cards)\n        else:\n            # i.e. not in list form, in a single entity (card). This method is used for assigning 26-26 cards to each player!\n            self.all_cards.append(new_cards)\n    \n    def __str__ (self):\n        # for printing this class' object\n        return f\"{self.player_name} has {len(self.all_cards)}.\\nSukoon Millgya jaankar? :P\"   \n            ",
      "metadata": {
        "trusted": true
      },
      "execution_count": 23,
      "outputs": []
    },
    {
      "cell_type": "code",
      "source": "chad_guy = Player(\"Oggy\")",
      "metadata": {
        "trusted": true
      },
      "execution_count": 24,
      "outputs": []
    },
    {
      "cell_type": "code",
      "source": "print(chad_guy)",
      "metadata": {
        "trusted": true
      },
      "execution_count": 25,
      "outputs": [
        {
          "name": "stdout",
          "text": "Oggy has 0.\nSukoon Millgya jaankar? :P\n",
          "output_type": "stream"
        }
      ]
    },
    {
      "cell_type": "code",
      "source": "chad_guy.add_cards(new_deck.all_cards)",
      "metadata": {
        "trusted": true
      },
      "execution_count": 26,
      "outputs": []
    },
    {
      "cell_type": "code",
      "source": "print(chad_guy)",
      "metadata": {
        "trusted": true
      },
      "execution_count": 27,
      "outputs": [
        {
          "name": "stdout",
          "text": "Oggy has 52.\nSukoon Millgya jaankar? :P\n",
          "output_type": "stream"
        }
      ]
    },
    {
      "cell_type": "code",
      "source": "# chad_guy.remove_one() # if new_cards have some entities inside the list it can be run.",
      "metadata": {
        "trusted": true
      },
      "execution_count": 28,
      "outputs": []
    },
    {
      "cell_type": "code",
      "source": "print(chad_guy)",
      "metadata": {
        "trusted": true
      },
      "execution_count": 29,
      "outputs": [
        {
          "name": "stdout",
          "text": "Oggy has 52.\nSukoon Millgya jaankar? :P\n",
          "output_type": "stream"
        }
      ]
    },
    {
      "cell_type": "code",
      "source": "player_one = Player(\"Pawan\") \nplayer_two = Player(\"Niket\")",
      "metadata": {
        "trusted": true
      },
      "execution_count": 30,
      "outputs": []
    },
    {
      "cell_type": "code",
      "source": "new_deck = Deck()",
      "metadata": {
        "trusted": true
      },
      "execution_count": 31,
      "outputs": []
    },
    {
      "cell_type": "code",
      "source": "new_deck.shuffle()",
      "metadata": {
        "trusted": true
      },
      "execution_count": 32,
      "outputs": []
    },
    {
      "cell_type": "code",
      "source": "new_deck.all_cards[0]\n",
      "metadata": {
        "trusted": true
      },
      "execution_count": 33,
      "outputs": [
        {
          "execution_count": 33,
          "output_type": "execute_result",
          "data": {
            "text/plain": "<__main__.Card at 0x1e34b98>"
          },
          "metadata": {}
        }
      ]
    },
    {
      "cell_type": "code",
      "source": "print(new_deck.all_cards[0])\nprint(new_deck.all_cards[-1])",
      "metadata": {
        "trusted": true
      },
      "execution_count": 34,
      "outputs": [
        {
          "name": "stdout",
          "text": "Seventh Club\nJack Spade\n",
          "output_type": "stream"
        }
      ]
    },
    {
      "cell_type": "code",
      "source": "new_deck",
      "metadata": {
        "trusted": true
      },
      "execution_count": 35,
      "outputs": [
        {
          "execution_count": 35,
          "output_type": "execute_result",
          "data": {
            "text/plain": "<__main__.Deck at 0x1e366d8>"
          },
          "metadata": {}
        }
      ]
    },
    {
      "cell_type": "code",
      "source": "\nfor i in range(26):\n    player_one.add_cards(new_deck.pop_one())\n    player_two.add_cards(new_deck.pop_one())\n",
      "metadata": {
        "trusted": true
      },
      "execution_count": 36,
      "outputs": []
    },
    {
      "cell_type": "code",
      "source": "len(new_deck.all_cards)",
      "metadata": {
        "trusted": true
      },
      "execution_count": 37,
      "outputs": [
        {
          "execution_count": 37,
          "output_type": "execute_result",
          "data": {
            "text/plain": "0"
          },
          "metadata": {}
        }
      ]
    },
    {
      "cell_type": "code",
      "source": "len(player_one.all_cards)",
      "metadata": {
        "trusted": true
      },
      "execution_count": 38,
      "outputs": [
        {
          "execution_count": 38,
          "output_type": "execute_result",
          "data": {
            "text/plain": "26"
          },
          "metadata": {}
        }
      ]
    },
    {
      "cell_type": "code",
      "source": "len(player_two.all_cards)",
      "metadata": {
        "trusted": true
      },
      "execution_count": 39,
      "outputs": [
        {
          "execution_count": 39,
          "output_type": "execute_result",
          "data": {
            "text/plain": "26"
          },
          "metadata": {}
        }
      ]
    },
    {
      "cell_type": "code",
      "source": "game_on = True",
      "metadata": {
        "trusted": true
      },
      "execution_count": 40,
      "outputs": []
    },
    {
      "cell_type": "code",
      "source": "round_num = 0\nwhile game_on:\n    \n    round_num += 1\n    print(f\"It's {round_num}th round\") \n    \n    if len(player_one.all_cards) == 0:\n        print(\"Player Two Wins!! Bcz Player Two have no card left :I\")\n        game_on = False\n        break\n    if len(player_two.all_cards) == 0:\n        print(\"Player One Wins!! Bcz Player Two have no card left :I\")      \n        game_on = False\n        break\n        \n    player_one_table = []\n    player_one_table.append(player_one.remove_one())\n    player_two_table = []\n    player_two_table.append(player_two.remove_one())\n\n    \n    #At war condition:\n    at_war = True\n    while at_war:\n        if player_one_table[-1].value < player_two_table[-1].value:\n            player_one.append(player_two_table[-1].value)\n        elif player_one_table[-1].value > player_two_table[-1].value:\n            player_two.append(player_one_table[-1].value)\n        else:\n            print(\"War!!!\")",
      "metadata": {
        "trusted": true
      },
      "execution_count": 46,
      "outputs": [
        {
          "name": "stdout",
          "text": "It's 1th round\n",
          "output_type": "stream"
        },
        {
          "ename": "<class 'AttributeError'>",
          "evalue": "'NoneType' object has no attribute 'value'",
          "traceback": [
            "\u001b[0;31m---------------------------------------------------------------------------\u001b[0m",
            "\u001b[0;31mAttributeError\u001b[0m                            Traceback (most recent call last)",
            "Cell \u001b[0;32mIn[46], line 25\u001b[0m\n\u001b[1;32m     23\u001b[0m at_war \u001b[38;5;241m=\u001b[39m \u001b[38;5;28;01mTrue\u001b[39;00m\n\u001b[1;32m     24\u001b[0m \u001b[38;5;28;01mwhile\u001b[39;00m at_war:\n\u001b[0;32m---> 25\u001b[0m     \u001b[38;5;28;01mif\u001b[39;00m \u001b[43mplayer_one_table\u001b[49m\u001b[43m[\u001b[49m\u001b[38;5;241;43m-\u001b[39;49m\u001b[38;5;241;43m1\u001b[39;49m\u001b[43m]\u001b[49m\u001b[38;5;241;43m.\u001b[39;49m\u001b[43mvalue\u001b[49m \u001b[38;5;241m<\u001b[39m player_two_table[\u001b[38;5;241m-\u001b[39m\u001b[38;5;241m1\u001b[39m]\u001b[38;5;241m.\u001b[39mvalue:\n\u001b[1;32m     26\u001b[0m         player_one\u001b[38;5;241m.\u001b[39mappend(player_two_table[\u001b[38;5;241m-\u001b[39m\u001b[38;5;241m1\u001b[39m]\u001b[38;5;241m.\u001b[39mvalue)\n\u001b[1;32m     27\u001b[0m     \u001b[38;5;28;01melif\u001b[39;00m player_one_table[\u001b[38;5;241m-\u001b[39m\u001b[38;5;241m1\u001b[39m]\u001b[38;5;241m.\u001b[39mvalue \u001b[38;5;241m>\u001b[39m player_two_table[\u001b[38;5;241m-\u001b[39m\u001b[38;5;241m1\u001b[39m]\u001b[38;5;241m.\u001b[39mvalue:\n",
            "\u001b[0;31mAttributeError\u001b[0m: 'NoneType' object has no attribute 'value'"
          ],
          "output_type": "error"
        }
      ]
    },
    {
      "cell_type": "code",
      "source": "",
      "metadata": {},
      "execution_count": null,
      "outputs": []
    }
  ]
}